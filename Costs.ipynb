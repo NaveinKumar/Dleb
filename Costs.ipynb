{
  "nbformat": 4,
  "nbformat_minor": 0,
  "metadata": {
    "colab": {
      "name": "Costs.ipynb",
      "provenance": [],
      "collapsed_sections": [],
      "authorship_tag": "ABX9TyPmRiYqt9up13zsUlfnvmrq",
      "include_colab_link": true
    },
    "kernelspec": {
      "name": "python3",
      "display_name": "Python 3"
    }
  },
  "cells": [
    {
      "cell_type": "markdown",
      "metadata": {
        "id": "view-in-github",
        "colab_type": "text"
      },
      "source": [
        "<a href=\"https://colab.research.google.com/github/NaveinKumar/Dleb/blob/master/Costs.ipynb\" target=\"_parent\"><img src=\"https://colab.research.google.com/assets/colab-badge.svg\" alt=\"Open In Colab\"/></a>"
      ]
    },
    {
      "cell_type": "code",
      "metadata": {
        "id": "EYuPjFifkTsJ"
      },
      "source": [
        "import numpy as np\n",
        "\n"
      ],
      "execution_count": 2,
      "outputs": []
    },
    {
      "cell_type": "code",
      "metadata": {
        "id": "EWtGA_kWkdRV",
        "colab": {
          "base_uri": "https://localhost:8080/"
        },
        "outputId": "0520a0ba-7ded-4e09-f180-cf8488a97c9b"
      },
      "source": [
        "x = np.array([[10,-2],[-1,10]])\n",
        "print(x)\n",
        "y = np.array([10000,20000])"
      ],
      "execution_count": 5,
      "outputs": [
        {
          "output_type": "stream",
          "text": [
            "[[10 -2]\n",
            " [-1 10]]\n"
          ],
          "name": "stdout"
        }
      ]
    },
    {
      "cell_type": "code",
      "metadata": {
        "id": "d5ZgXH7boNxL",
        "colab": {
          "base_uri": "https://localhost:8080/",
          "height": 51
        },
        "outputId": "20f69022-2d0c-4619-9e36-555f88de47d3"
      },
      "source": [
        "z = np.linalg.inv(x)\n",
        "print(z)"
      ],
      "execution_count": null,
      "outputs": [
        {
          "output_type": "stream",
          "text": [
            "[[0.10204082 0.02040816]\n",
            " [0.01020408 0.10204082]]\n"
          ],
          "name": "stdout"
        }
      ]
    },
    {
      "cell_type": "code",
      "metadata": {
        "id": "2ERdSzQ-pHSR",
        "colab": {
          "base_uri": "https://localhost:8080/",
          "height": 34
        },
        "outputId": "651835b3-3a27-4caf-99fa-8a17e48039c6"
      },
      "source": [
        "r = np.matmul(z,y)\n",
        "print(r)"
      ],
      "execution_count": null,
      "outputs": [
        {
          "output_type": "stream",
          "text": [
            "[1428.57142857 2142.85714286]\n"
          ],
          "name": "stdout"
        }
      ]
    }
  ]
}