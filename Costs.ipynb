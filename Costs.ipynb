{
  "nbformat": 4,
  "nbformat_minor": 0,
  "metadata": {
    "colab": {
      "name": "Costs.ipynb",
      "provenance": [],
      "collapsed_sections": [],
      "authorship_tag": "ABX9TyPmRiYqt9up13zsUlfnvmrq",
      "include_colab_link": true
    },
    "kernelspec": {
      "name": "python3",
      "display_name": "Python 3"
    }
  },
  "cells": [
    {
      "cell_type": "markdown",
      "metadata": {
        "id": "view-in-github",
        "colab_type": "text"
      },
      "source": [
        "<a href=\"https://colab.research.google.com/github/NaveinKumar/Dleb/blob/master/Costs.ipynb\" target=\"_parent\"><img src=\"https://colab.research.google.com/assets/colab-badge.svg\" alt=\"Open In Colab\"/></a>"
      ]
    },
    {
      "cell_type": "code",
      "metadata": {
        "id": "EYuPjFifkTsJ"
      },
      "source": [
        "import numpy as np\n",
        "\n"
      ],
      "execution_count": 2,
      "outputs": []
    },
    {
      "cell_type": "code",
      "metadata": {
        "id": "EWtGA_kWkdRV",
        "colab": {
          "base_uri": "https://localhost:8080/",
          "height": 129
        },
        "outputId": "70fdb792-c78c-4c9b-a988-b3b2ee4d15a5"
      },
      "source": [
        "x = np.array([[10,-2],[-1,10]])\n",
        "print(x)\n",
        "y = np.array([10000,20000])"
      ],
      "execution_count": 4,
      "outputs": [
        {
          "output_type": "error",
          "ename": "SyntaxError",
          "evalue": "ignored",
          "traceback": [
            "\u001b[0;36m  File \u001b[0;32m\"<ipython-input-4-63cd49e55279>\"\u001b[0;36m, line \u001b[0;32m2\u001b[0m\n\u001b[0;31m    (/print(x))\u001b[0m\n\u001b[0m     ^\u001b[0m\n\u001b[0;31mSyntaxError\u001b[0m\u001b[0;31m:\u001b[0m invalid syntax\n"
          ]
        }
      ]
    },
    {
      "cell_type": "code",
      "metadata": {
        "id": "d5ZgXH7boNxL",
        "colab": {
          "base_uri": "https://localhost:8080/",
          "height": 51
        },
        "outputId": "20f69022-2d0c-4619-9e36-555f88de47d3"
      },
      "source": [
        "z = np.linalg.inv(x)\n",
        "print(z)"
      ],
      "execution_count": null,
      "outputs": [
        {
          "output_type": "stream",
          "text": [
            "[[0.10204082 0.02040816]\n",
            " [0.01020408 0.10204082]]\n"
          ],
          "name": "stdout"
        }
      ]
    },
    {
      "cell_type": "code",
      "metadata": {
        "id": "2ERdSzQ-pHSR",
        "colab": {
          "base_uri": "https://localhost:8080/",
          "height": 34
        },
        "outputId": "651835b3-3a27-4caf-99fa-8a17e48039c6"
      },
      "source": [
        "r = np.matmul(z,y)\n",
        "print(r)"
      ],
      "execution_count": null,
      "outputs": [
        {
          "output_type": "stream",
          "text": [
            "[1428.57142857 2142.85714286]\n"
          ],
          "name": "stdout"
        }
      ]
    }
  ]
}